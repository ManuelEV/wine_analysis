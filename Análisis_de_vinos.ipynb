{
 "cells": [
  {
   "cell_type": "markdown",
   "metadata": {
    "colab_type": "text",
    "id": "9lnc5ze0s2Wn"
   },
   "source": [
    "<h1>Comparación de modelos de aprendizaje para la clasificación de vinos</h1>\n",
    "\n",
    "<h2>Obtención y formato de los datos</h2>"
   ]
  },
  {
   "cell_type": "code",
   "execution_count": 1,
   "metadata": {
    "colab": {},
    "colab_type": "code",
    "id": "Bl4wnnQ5U5kP"
   },
   "outputs": [],
   "source": [
    "import pandas as pd"
   ]
  },
  {
   "cell_type": "code",
   "execution_count": 2,
   "metadata": {
    "colab": {
     "base_uri": "https://localhost:8080/",
     "height": 207
    },
    "colab_type": "code",
    "id": "2xUNf4BhU5kV",
    "outputId": "7b87501c-3dc9-477d-a087-8cbe68679e06"
   },
   "outputs": [
    {
     "data": {
      "text/html": [
       "<div>\n",
       "<style scoped>\n",
       "    .dataframe tbody tr th:only-of-type {\n",
       "        vertical-align: middle;\n",
       "    }\n",
       "\n",
       "    .dataframe tbody tr th {\n",
       "        vertical-align: top;\n",
       "    }\n",
       "\n",
       "    .dataframe thead th {\n",
       "        text-align: right;\n",
       "    }\n",
       "</style>\n",
       "<table border=\"1\" class=\"dataframe\">\n",
       "  <thead>\n",
       "    <tr style=\"text-align: right;\">\n",
       "      <th></th>\n",
       "      <th>fixed acidity</th>\n",
       "      <th>volatile acidity</th>\n",
       "      <th>citric acid</th>\n",
       "      <th>residual sugar</th>\n",
       "      <th>chlorides</th>\n",
       "      <th>free sulfur dioxide</th>\n",
       "      <th>total sulfur dioxide</th>\n",
       "      <th>density</th>\n",
       "      <th>pH</th>\n",
       "      <th>sulphates</th>\n",
       "      <th>alcohol</th>\n",
       "      <th>quality</th>\n",
       "    </tr>\n",
       "  </thead>\n",
       "  <tbody>\n",
       "    <tr>\n",
       "      <th>0</th>\n",
       "      <td>7.4</td>\n",
       "      <td>0.70</td>\n",
       "      <td>0.00</td>\n",
       "      <td>1.9</td>\n",
       "      <td>0.076</td>\n",
       "      <td>11.0</td>\n",
       "      <td>34.0</td>\n",
       "      <td>0.9978</td>\n",
       "      <td>3.51</td>\n",
       "      <td>0.56</td>\n",
       "      <td>9.4</td>\n",
       "      <td>5</td>\n",
       "    </tr>\n",
       "    <tr>\n",
       "      <th>1</th>\n",
       "      <td>7.8</td>\n",
       "      <td>0.88</td>\n",
       "      <td>0.00</td>\n",
       "      <td>2.6</td>\n",
       "      <td>0.098</td>\n",
       "      <td>25.0</td>\n",
       "      <td>67.0</td>\n",
       "      <td>0.9968</td>\n",
       "      <td>3.20</td>\n",
       "      <td>0.68</td>\n",
       "      <td>9.8</td>\n",
       "      <td>5</td>\n",
       "    </tr>\n",
       "    <tr>\n",
       "      <th>2</th>\n",
       "      <td>7.8</td>\n",
       "      <td>0.76</td>\n",
       "      <td>0.04</td>\n",
       "      <td>2.3</td>\n",
       "      <td>0.092</td>\n",
       "      <td>15.0</td>\n",
       "      <td>54.0</td>\n",
       "      <td>0.9970</td>\n",
       "      <td>3.26</td>\n",
       "      <td>0.65</td>\n",
       "      <td>9.8</td>\n",
       "      <td>5</td>\n",
       "    </tr>\n",
       "    <tr>\n",
       "      <th>3</th>\n",
       "      <td>11.2</td>\n",
       "      <td>0.28</td>\n",
       "      <td>0.56</td>\n",
       "      <td>1.9</td>\n",
       "      <td>0.075</td>\n",
       "      <td>17.0</td>\n",
       "      <td>60.0</td>\n",
       "      <td>0.9980</td>\n",
       "      <td>3.16</td>\n",
       "      <td>0.58</td>\n",
       "      <td>9.8</td>\n",
       "      <td>6</td>\n",
       "    </tr>\n",
       "    <tr>\n",
       "      <th>4</th>\n",
       "      <td>7.4</td>\n",
       "      <td>0.70</td>\n",
       "      <td>0.00</td>\n",
       "      <td>1.9</td>\n",
       "      <td>0.076</td>\n",
       "      <td>11.0</td>\n",
       "      <td>34.0</td>\n",
       "      <td>0.9978</td>\n",
       "      <td>3.51</td>\n",
       "      <td>0.56</td>\n",
       "      <td>9.4</td>\n",
       "      <td>5</td>\n",
       "    </tr>\n",
       "  </tbody>\n",
       "</table>\n",
       "</div>"
      ],
      "text/plain": [
       "   fixed acidity  volatile acidity  citric acid  residual sugar  chlorides  \\\n",
       "0            7.4              0.70         0.00             1.9      0.076   \n",
       "1            7.8              0.88         0.00             2.6      0.098   \n",
       "2            7.8              0.76         0.04             2.3      0.092   \n",
       "3           11.2              0.28         0.56             1.9      0.075   \n",
       "4            7.4              0.70         0.00             1.9      0.076   \n",
       "\n",
       "   free sulfur dioxide  total sulfur dioxide  density    pH  sulphates  \\\n",
       "0                 11.0                  34.0   0.9978  3.51       0.56   \n",
       "1                 25.0                  67.0   0.9968  3.20       0.68   \n",
       "2                 15.0                  54.0   0.9970  3.26       0.65   \n",
       "3                 17.0                  60.0   0.9980  3.16       0.58   \n",
       "4                 11.0                  34.0   0.9978  3.51       0.56   \n",
       "\n",
       "   alcohol  quality  \n",
       "0      9.4        5  \n",
       "1      9.8        5  \n",
       "2      9.8        5  \n",
       "3      9.8        6  \n",
       "4      9.4        5  "
      ]
     },
     "execution_count": 2,
     "metadata": {},
     "output_type": "execute_result"
    }
   ],
   "source": [
    "#En primer lugar, leemos el dataset correspondiente a los vinos rojos\n",
    "#El archivo csv venía con los datos separados por punto y coma, por lo tanto al leerlo con pandas se debe considerar aquello\n",
    "#Más info: https://stackoverflow.com/questions/44195394/read-csv-file-with-semicolon-as-delimiter\n",
    "#Cómo cargar un archivo csv en codelab: https://towardsdatascience.com/3-ways-to-load-csv-files-into-colab-7c14fcbdcb92\n",
    "url = 'https://raw.githubusercontent.com/ManuelEV/wine_analysis/master/winequality-red.csv'\n",
    "red_wines= pd.read_csv(url, sep = ';')\n",
    "red_wines.head()"
   ]
  },
  {
   "cell_type": "code",
   "execution_count": 3,
   "metadata": {
    "colab": {
     "base_uri": "https://localhost:8080/",
     "height": 207
    },
    "colab_type": "code",
    "id": "n8EOGHYSU5kc",
    "outputId": "3ec44c8a-0ac6-403c-e3ab-0fb79379f4f8"
   },
   "outputs": [
    {
     "data": {
      "text/html": [
       "<div>\n",
       "<style scoped>\n",
       "    .dataframe tbody tr th:only-of-type {\n",
       "        vertical-align: middle;\n",
       "    }\n",
       "\n",
       "    .dataframe tbody tr th {\n",
       "        vertical-align: top;\n",
       "    }\n",
       "\n",
       "    .dataframe thead th {\n",
       "        text-align: right;\n",
       "    }\n",
       "</style>\n",
       "<table border=\"1\" class=\"dataframe\">\n",
       "  <thead>\n",
       "    <tr style=\"text-align: right;\">\n",
       "      <th></th>\n",
       "      <th>fixed acidity</th>\n",
       "      <th>volatile acidity</th>\n",
       "      <th>citric acid</th>\n",
       "      <th>residual sugar</th>\n",
       "      <th>chlorides</th>\n",
       "      <th>free sulfur dioxide</th>\n",
       "      <th>total sulfur dioxide</th>\n",
       "      <th>density</th>\n",
       "      <th>pH</th>\n",
       "      <th>sulphates</th>\n",
       "      <th>alcohol</th>\n",
       "      <th>quality</th>\n",
       "    </tr>\n",
       "  </thead>\n",
       "  <tbody>\n",
       "    <tr>\n",
       "      <th>0</th>\n",
       "      <td>7.0</td>\n",
       "      <td>0.27</td>\n",
       "      <td>0.36</td>\n",
       "      <td>20.7</td>\n",
       "      <td>0.045</td>\n",
       "      <td>45.0</td>\n",
       "      <td>170.0</td>\n",
       "      <td>1.0010</td>\n",
       "      <td>3.00</td>\n",
       "      <td>0.45</td>\n",
       "      <td>8.8</td>\n",
       "      <td>6</td>\n",
       "    </tr>\n",
       "    <tr>\n",
       "      <th>1</th>\n",
       "      <td>6.3</td>\n",
       "      <td>0.30</td>\n",
       "      <td>0.34</td>\n",
       "      <td>1.6</td>\n",
       "      <td>0.049</td>\n",
       "      <td>14.0</td>\n",
       "      <td>132.0</td>\n",
       "      <td>0.9940</td>\n",
       "      <td>3.30</td>\n",
       "      <td>0.49</td>\n",
       "      <td>9.5</td>\n",
       "      <td>6</td>\n",
       "    </tr>\n",
       "    <tr>\n",
       "      <th>2</th>\n",
       "      <td>8.1</td>\n",
       "      <td>0.28</td>\n",
       "      <td>0.40</td>\n",
       "      <td>6.9</td>\n",
       "      <td>0.050</td>\n",
       "      <td>30.0</td>\n",
       "      <td>97.0</td>\n",
       "      <td>0.9951</td>\n",
       "      <td>3.26</td>\n",
       "      <td>0.44</td>\n",
       "      <td>10.1</td>\n",
       "      <td>6</td>\n",
       "    </tr>\n",
       "    <tr>\n",
       "      <th>3</th>\n",
       "      <td>7.2</td>\n",
       "      <td>0.23</td>\n",
       "      <td>0.32</td>\n",
       "      <td>8.5</td>\n",
       "      <td>0.058</td>\n",
       "      <td>47.0</td>\n",
       "      <td>186.0</td>\n",
       "      <td>0.9956</td>\n",
       "      <td>3.19</td>\n",
       "      <td>0.40</td>\n",
       "      <td>9.9</td>\n",
       "      <td>6</td>\n",
       "    </tr>\n",
       "    <tr>\n",
       "      <th>4</th>\n",
       "      <td>7.2</td>\n",
       "      <td>0.23</td>\n",
       "      <td>0.32</td>\n",
       "      <td>8.5</td>\n",
       "      <td>0.058</td>\n",
       "      <td>47.0</td>\n",
       "      <td>186.0</td>\n",
       "      <td>0.9956</td>\n",
       "      <td>3.19</td>\n",
       "      <td>0.40</td>\n",
       "      <td>9.9</td>\n",
       "      <td>6</td>\n",
       "    </tr>\n",
       "  </tbody>\n",
       "</table>\n",
       "</div>"
      ],
      "text/plain": [
       "   fixed acidity  volatile acidity  citric acid  residual sugar  chlorides  \\\n",
       "0            7.0              0.27         0.36            20.7      0.045   \n",
       "1            6.3              0.30         0.34             1.6      0.049   \n",
       "2            8.1              0.28         0.40             6.9      0.050   \n",
       "3            7.2              0.23         0.32             8.5      0.058   \n",
       "4            7.2              0.23         0.32             8.5      0.058   \n",
       "\n",
       "   free sulfur dioxide  total sulfur dioxide  density    pH  sulphates  \\\n",
       "0                 45.0                 170.0   1.0010  3.00       0.45   \n",
       "1                 14.0                 132.0   0.9940  3.30       0.49   \n",
       "2                 30.0                  97.0   0.9951  3.26       0.44   \n",
       "3                 47.0                 186.0   0.9956  3.19       0.40   \n",
       "4                 47.0                 186.0   0.9956  3.19       0.40   \n",
       "\n",
       "   alcohol  quality  \n",
       "0      8.8        6  \n",
       "1      9.5        6  \n",
       "2     10.1        6  \n",
       "3      9.9        6  \n",
       "4      9.9        6  "
      ]
     },
     "execution_count": 3,
     "metadata": {},
     "output_type": "execute_result"
    }
   ],
   "source": [
    "#Luego leemos el dataset correspondiente a los vinos blancos\n",
    "#El archivo csv venía con los datos separados por punto y coma, por lo tanto al leerlo con pandas se debe considerar aquello\n",
    "#Más info: https://stackoverflow.com/questions/44195394/read-csv-file-with-semicolon-as-delimiter\n",
    "url = 'https://raw.githubusercontent.com/ManuelEV/wine_analysis/master/winequality-white.csv'\n",
    "white_wines= pd.read_csv(url, sep = ';')\n",
    "white_wines.head()"
   ]
  },
  {
   "cell_type": "markdown",
   "metadata": {
    "colab_type": "text",
    "id": "3ng-0ikQU5kf"
   },
   "source": [
    "<h3>Attribute Information:</h3>\n",
    "<br>\n",
    "Dataset extraído de: https://archive.ics.uci.edu/ml/datasets/Wine+Quality\n",
    "<br>\n",
    "For more information, read [Cortez et al., 2009]. <br>\n",
    "Input variables (based on physicochemical tests): <br>\n",
    "1 - fixed acidity <br>\n",
    "2 - volatile acidity <br>\n",
    "3 - citric acid <br>\n",
    "4 - residual sugar <br>\n",
    "5 - chlorides <br>\n",
    "6 - free sulfur dioxide <br>\n",
    "7 - total sulfur dioxide <br>\n",
    "8 - density <br>\n",
    "9 - pH <br>\n",
    "10 - sulphates <br>\n",
    "11 - alcohol <br>\n",
    "Output variable (based on sensory data): <br>\n",
    "12 - quality (score between 0 and 10)\n",
    "<h3>Problema de clasificación (a grandes rasgos):</h3>\n",
    "<br>El problema a abordar corresponde a un problema de clasificación con 11 clases (entre 0 y 10), correspondiente a la calidad del vino, ya sea rojo o blanco\n",
    "<h3>Análisis de los atributos</h3>\n",
    "<br>\n"
   ]
  },
  {
   "cell_type": "code",
   "execution_count": 4,
   "metadata": {
    "colab": {
     "base_uri": "https://localhost:8080/",
     "height": 245
    },
    "colab_type": "code",
    "id": "xWB0JT_zs2W0",
    "outputId": "43f97a0c-f24f-4519-d675-1be72bf3b997"
   },
   "outputs": [
    {
     "data": {
      "text/plain": [
       "fixed acidity           float64\n",
       "volatile acidity        float64\n",
       "citric acid             float64\n",
       "residual sugar          float64\n",
       "chlorides               float64\n",
       "free sulfur dioxide     float64\n",
       "total sulfur dioxide    float64\n",
       "density                 float64\n",
       "pH                      float64\n",
       "sulphates               float64\n",
       "alcohol                 float64\n",
       "quality                   int64\n",
       "dtype: object"
      ]
     },
     "execution_count": 4,
     "metadata": {},
     "output_type": "execute_result"
    }
   ],
   "source": [
    "red_wines.dtypes"
   ]
  },
  {
   "cell_type": "code",
   "execution_count": 5,
   "metadata": {
    "colab": {
     "base_uri": "https://localhost:8080/",
     "height": 245
    },
    "colab_type": "code",
    "id": "sR0_D83Qs2W3",
    "outputId": "ba58c6e1-9aa0-4b21-d4df-cca64c5cc717"
   },
   "outputs": [
    {
     "data": {
      "text/plain": [
       "fixed acidity           float64\n",
       "volatile acidity        float64\n",
       "citric acid             float64\n",
       "residual sugar          float64\n",
       "chlorides               float64\n",
       "free sulfur dioxide     float64\n",
       "total sulfur dioxide    float64\n",
       "density                 float64\n",
       "pH                      float64\n",
       "sulphates               float64\n",
       "alcohol                 float64\n",
       "quality                   int64\n",
       "dtype: object"
      ]
     },
     "execution_count": 5,
     "metadata": {},
     "output_type": "execute_result"
    }
   ],
   "source": [
    "white_wines.dtypes"
   ]
  },
  {
   "cell_type": "code",
   "execution_count": 6,
   "metadata": {},
   "outputs": [
    {
     "name": "stdout",
     "output_type": "stream",
     "text": [
      "Desvicación estándar para los vinos tintos\n"
     ]
    },
    {
     "data": {
      "text/plain": [
       "fixed acidity            1.740552\n",
       "volatile acidity         0.179004\n",
       "citric acid              0.194740\n",
       "residual sugar           1.409487\n",
       "chlorides                0.047051\n",
       "free sulfur dioxide     10.456886\n",
       "total sulfur dioxide    32.885037\n",
       "density                  0.001887\n",
       "pH                       0.154338\n",
       "sulphates                0.169454\n",
       "alcohol                  1.065334\n",
       "quality                  0.807317\n",
       "dtype: float64"
      ]
     },
     "execution_count": 6,
     "metadata": {},
     "output_type": "execute_result"
    }
   ],
   "source": [
    "import numpy as np\n",
    "print('Desvicación estándar para los vinos tintos')\n",
    "np.std(red_wines)"
   ]
  },
  {
   "cell_type": "code",
   "execution_count": 7,
   "metadata": {},
   "outputs": [
    {
     "name": "stdout",
     "output_type": "stream",
     "text": [
      "Desvicación estándar para los vinos blancos\n"
     ]
    },
    {
     "data": {
      "text/plain": [
       "fixed acidity            0.843782\n",
       "volatile acidity         0.100784\n",
       "citric acid              0.121007\n",
       "residual sugar           5.071540\n",
       "chlorides                0.021846\n",
       "free sulfur dioxide     17.005401\n",
       "total sulfur dioxide    42.493726\n",
       "density                  0.002991\n",
       "pH                       0.150985\n",
       "sulphates                0.114114\n",
       "alcohol                  1.230495\n",
       "quality                  0.885548\n",
       "dtype: float64"
      ]
     },
     "execution_count": 7,
     "metadata": {},
     "output_type": "execute_result"
    }
   ],
   "source": [
    "print('Desvicación estándar para los vinos blancos')\n",
    "np.std(white_wines)"
   ]
  },
  {
   "cell_type": "markdown",
   "metadata": {
    "colab_type": "text",
    "id": "JYvIdALWU5kg"
   },
   "source": [
    "<h2>Visualización de los datos</h2>"
   ]
  },
  {
   "cell_type": "code",
   "execution_count": 8,
   "metadata": {
    "colab": {},
    "colab_type": "code",
    "id": "Rxy4liw9U5kh"
   },
   "outputs": [],
   "source": [
    "# forma convencional de importar Seaborn\n",
    "import seaborn as sns\n",
    "# Permite mostrar gráfica en el notebook\n",
    "%matplotlib inline"
   ]
  },
  {
   "cell_type": "markdown",
   "metadata": {
    "colab_type": "text",
    "id": "ZQUfye5Yk4vE"
   },
   "source": [
    "<h3>Cantidad de registros según dataset (vino rojo/blanco)<h3>"
   ]
  },
  {
   "cell_type": "code",
   "execution_count": 9,
   "metadata": {
    "colab": {
     "base_uri": "https://localhost:8080/",
     "height": 360
    },
    "colab_type": "code",
    "id": "oZGnNBjvU5kj",
    "outputId": "75cfe811-a54f-451f-e2be-967f017265fd"
   },
   "outputs": [
    {
     "name": "stdout",
     "output_type": "stream",
     "text": [
      "1599\n",
      "4898\n"
     ]
    },
    {
     "data": {
      "text/plain": [
       "(-1.2225197707514783,\n",
       " 1.1106511886541168,\n",
       " -1.1046523789235543,\n",
       " 1.1016998484999563)"
      ]
     },
     "execution_count": 9,
     "metadata": {},
     "output_type": "execute_result"
    },
    {
     "data": {
      "image/png": "[encoded data removed]",
      "text/plain": [
       "<Figure size 432x288 with 1 Axes>"
      ]
     },
     "metadata": {},
     "output_type": "display_data"
    }
   ],
   "source": [
    "import matplotlib.pyplot as plt\n",
    "\n",
    "print(red_wines['quality'].count())\n",
    "print(white_wines['quality'].count())\n",
    "\n",
    "# Data to plot\n",
    "labels = 'Red wine', 'White wine'\n",
    "sizes = [red_wines['quality'].count(), white_wines['quality'].count()]\n",
    "colors = ['gold', 'yellowgreen']\n",
    "explode = (0.1, 0)  # explode 1st slice\n",
    "\n",
    "# Plot\n",
    "plt.pie(sizes, explode=explode, labels=labels, colors=colors,\n",
    "autopct='%1.1f%%', shadow=True, startangle=140)\n",
    "\n",
    "plt.axis('equal')\n"
   ]
  },
  {
   "cell_type": "markdown",
   "metadata": {
    "colab_type": "text",
    "id": "UA6tYvh-kOVq"
   },
   "source": [
    "<h3>Distribución (countplot) de la calidad del vino (rojo-blanco)</h3>"
   ]
  },
  {
   "cell_type": "code",
   "execution_count": 10,
   "metadata": {
    "colab": {},
    "colab_type": "code",
    "id": "6raM8KpFs2XA"
   },
   "outputs": [],
   "source": [
    "#Para más info sobre cómo usar pairplot:\n",
    "#https://seaborn.pydata.org/generated/seaborn.pairplot.html\n",
    "sns.set(style=\"ticks\", color_codes=True)"
   ]
  },
  {
   "cell_type": "code",
   "execution_count": 11,
   "metadata": {
    "colab": {
     "base_uri": "https://localhost:8080/",
     "height": 309
    },
    "colab_type": "code",
    "id": "MY6Vr_CmU5ku",
    "outputId": "e350dafb-31e0-40ca-a685-f44cd0860a75"
   },
   "outputs": [
    {
     "data": {
      "text/plain": [
       "Text(0, 0.5, 'Frecuencia')"
      ]
     },
     "execution_count": 11,
     "metadata": {},
     "output_type": "execute_result"
    },
    {
     "data": {
      "image/png": "[encoded data removed]",
      "text/plain": [
       "<Figure size 432x288 with 1 Axes>"
      ]
     },
     "metadata": {},
     "output_type": "display_data"
    }
   ],
   "source": [
    "countplot = sns.countplot(red_wines['quality'])\n",
    "countplot.set_xlabel(\"Calidad\")\n",
    "countplot.set_ylabel(\"Frecuencia\")"
   ]
  },
  {
   "cell_type": "code",
   "execution_count": 12,
   "metadata": {
    "colab": {
     "base_uri": "https://localhost:8080/",
     "height": 309
    },
    "colab_type": "code",
    "id": "IGXf0lHbU5k2",
    "outputId": "b2e3414e-5d1b-4f2f-c3f7-de4bd76b1046"
   },
   "outputs": [
    {
     "data": {
      "text/plain": [
       "Text(0, 0.5, 'Frecuencia')"
      ]
     },
     "execution_count": 12,
     "metadata": {},
     "output_type": "execute_result"
    },
    {
     "data": {
      "image/png": "[encoded data removed]",
      "text/plain": [
       "<Figure size 432x288 with 1 Axes>"
      ]
     },
     "metadata": {},
     "output_type": "display_data"
    }
   ],
   "source": [
    "countplot = sns.countplot(white_wines['quality'])\n",
    "countplot.set_xlabel(\"Calidad\")\n",
    "countplot.set_ylabel(\"Frecuencia\")"
   ]
  },
  {
   "cell_type": "code",
   "execution_count": 13,
   "metadata": {
    "colab": {
     "base_uri": "https://localhost:8080/",
     "height": 35
    },
    "colab_type": "code",
    "id": "qrfCZq21U5k6",
    "outputId": "5257d66c-ec73-4eeb-e7b9-93a0e6d2a434"
   },
   "outputs": [
    {
     "name": "stdout",
     "output_type": "stream",
     "text": [
      "['fixed acidity', 'volatile acidity', 'citric acid', 'residual sugar', 'chlorides', 'free sulfur dioxide', 'total sulfur dioxide', 'density', 'pH', 'sulphates', 'alcohol']\n"
     ]
    }
   ],
   "source": [
    "#La variable data_columns contendrá los nombres de las columnas correspondientes a nuestra matriz de datos\n",
    "data_columns = list(red_wines.columns.values)\n",
    "data_columns.remove('quality')\n",
    "print(data_columns)"
   ]
  },
  {
   "cell_type": "markdown",
   "metadata": {
    "colab_type": "text",
    "id": "_lBbQLp1mob-"
   },
   "source": [
    "<h3>Características vs Calidad del vino</h3>\n"
   ]
  },
  {
   "cell_type": "code",
   "execution_count": 14,
   "metadata": {
    "colab": {
     "base_uri": "https://localhost:8080/",
     "height": 227
    },
    "colab_type": "code",
    "id": "pLkohzl0U5lF",
    "outputId": "25b4d436-b3ca-4b50-8684-699d74a7d4b6"
   },
   "outputs": [
    {
     "data": {
      "text/plain": [
       "<seaborn.axisgrid.PairGrid at 0x1580c4bd940>"
      ]
     },
     "execution_count": 14,
     "metadata": {},
     "output_type": "execute_result"
    },
    {
     "data": {
      "image/png": "[encoded data removed]",
      "text/plain": [
       "<Figure size 2025.85x180 with 11 Axes>"
      ]
     },
     "metadata": {},
     "output_type": "display_data"
    }
   ],
   "source": [
    "sns.pairplot(red_wines, x_vars=data_columns, y_vars='quality',hue=\"quality\")"
   ]
  },
  {
   "cell_type": "code",
   "execution_count": 15,
   "metadata": {
    "colab": {
     "base_uri": "https://localhost:8080/",
     "height": 227
    },
    "colab_type": "code",
    "id": "5eVlYaU0U5lL",
    "outputId": "6d0dc181-3cd4-4cd5-80ed-a9d5d5d0be8f"
   },
   "outputs": [
    {
     "data": {
      "text/plain": [
       "<seaborn.axisgrid.PairGrid at 0x1580cd424e0>"
      ]
     },
     "execution_count": 15,
     "metadata": {},
     "output_type": "execute_result"
    },
    {
     "data": {
      "image/png": "[encoded data removed]",
      "text/plain": [
       "<Figure size 2025.85x180 with 11 Axes>"
      ]
     },
     "metadata": {},
     "output_type": "display_data"
    }
   ],
   "source": [
    "sns.pairplot(white_wines, x_vars=data_columns, y_vars='quality',hue=\"quality\")"
   ]
  },
  {
   "cell_type": "markdown",
   "metadata": {
    "colab_type": "text",
    "id": "6Vlfn7MtoN0o"
   },
   "source": [
    "<h3>Antes de analizar los modelos...</h3>\n",
    "<br>\n",
    "La forma en que se distribuyen las características según la calidad de los vinos indica que modelos como regresión lineal no se acomodan para este contexto\n",
    "<br>"
   ]
  },
  {
   "cell_type": "markdown",
   "metadata": {
    "colab_type": "text",
    "id": "CGEqX82QU5lc"
   },
   "source": [
    "<h2>Selección de modelo</h2>\n",
    "<br>\n",
    "El objetivo de esta sección es predecir la calidad del vino (rojo y blanco de forma independiente) según sus características.\n",
    "\n",
    "\n",
    "Modelo:\n",
    "<br>\n",
    "**KNeighborsClassifier**\n",
    "<br>\n",
    "https://scikit-learn.org/stable/modules/generated/sklearn.neighbors.KNeighborsClassifier.html\n",
    "<br>\n",
    "Se utiliza **GridSearchCV** con cv=10. La métrica a maximizar es la exactitud (accuracy)\n"
   ]
  },
  {
   "cell_type": "markdown",
   "metadata": {
    "colab_type": "text",
    "id": "cxJEZ2EDU5le"
   },
   "source": [
    "<h3>Red wine</h3>"
   ]
  },
  {
   "cell_type": "code",
   "execution_count": 16,
   "metadata": {
    "colab": {
     "base_uri": "https://localhost:8080/",
     "height": 421
    },
    "colab_type": "code",
    "id": "zpq0i_QiU5lr",
    "outputId": "be94a07d-55d5-44ca-e6f4-10b7c358e82e"
   },
   "outputs": [],
   "source": [
    "\n",
    "X = red_wines[data_columns]\n",
    "y = red_wines['quality']\n"
   ]
  },
  {
   "cell_type": "code",
   "execution_count": 17,
   "metadata": {},
   "outputs": [],
   "source": [
    "from sklearn.neighbors import KNeighborsClassifier\n",
    "\n",
    "knn = KNeighborsClassifier()"
   ]
  },
  {
   "cell_type": "code",
   "execution_count": 18,
   "metadata": {},
   "outputs": [],
   "source": [
    "from sklearn.model_selection import GridSearchCV"
   ]
  },
  {
   "cell_type": "code",
   "execution_count": 19,
   "metadata": {},
   "outputs": [
    {
     "name": "stdout",
     "output_type": "stream",
     "text": [
      "{'n_neighbors': [1, 2, 3, 4, 5, 6, 7, 8, 9, 10, 11, 12, 13, 14, 15, 16, 17, 18, 19, 20, 21, 22, 23, 24, 25, 26, 27, 28, 29, 30, 31, 32, 33, 34, 35, 36, 37, 38, 39, 40, 41, 42, 43, 44, 45, 46, 47, 48, 49, 50, 51, 52, 53, 54, 55, 56, 57, 58, 59, 60], 'weights': ['uniform', 'distance']}\n"
     ]
    }
   ],
   "source": [
    "# definir los valores de los parámetros que queremos buscar (los K)\n",
    "k_range = list(range(1, 61))\n",
    "weight_options = ['uniform', 'distance'] # nuevo parámetro, permite ponderar features según el problema\n",
    "# este nuevo parámetro se utilizará con cada K para KNN\n",
    "\n",
    "# Crear la malla con parámetros: mapea los nombres de los parámetros con los valores que debería buscar (es un diccionario)\n",
    "param_grid = dict(n_neighbors=k_range, weights=weight_options)\n",
    "print(param_grid)"
   ]
  },
  {
   "cell_type": "code",
   "execution_count": 20,
   "metadata": {},
   "outputs": [],
   "source": [
    "scoring = ['accuracy','recall_micro']\n",
    "grid = GridSearchCV(knn, param_grid, cv=10, scoring=scoring, return_train_score=False, refit='accuracy')"
   ]
  },
  {
   "cell_type": "code",
   "execution_count": 21,
   "metadata": {},
   "outputs": [
    {
     "name": "stderr",
     "output_type": "stream",
     "text": [
      "C:\\Program Files\\Anaconda3\\lib\\site-packages\\sklearn\\model_selection\\_search.py:841: DeprecationWarning: The default of the `iid` parameter will change from True to False in version 0.22 and will be removed in 0.24. This will change numeric results when test-set sizes are unequal.\n",
      "  DeprecationWarning)\n"
     ]
    },
    {
     "data": {
      "text/plain": [
       "GridSearchCV(cv=10, error_score='raise-deprecating',\n",
       "       estimator=KNeighborsClassifier(algorithm='auto', leaf_size=30, metric='minkowski',\n",
       "           metric_params=None, n_jobs=None, n_neighbors=5, p=2,\n",
       "           weights='uniform'),\n",
       "       fit_params=None, iid='warn', n_jobs=None,\n",
       "       param_grid={'n_neighbors': [1, 2, 3, 4, 5, 6, 7, 8, 9, 10, 11, 12, 13, 14, 15, 16, 17, 18, 19, 20, 21, 22, 23, 24, 25, 26, 27, 28, 29, 30, 31, 32, 33, 34, 35, 36, 37, 38, 39, 40, 41, 42, 43, 44, 45, 46, 47, 48, 49, 50, 51, 52, 53, 54, 55, 56, 57, 58, 59, 60], 'weights': ['uniform', 'distance']},\n",
       "       pre_dispatch='2*n_jobs', refit='accuracy', return_train_score=False,\n",
       "       scoring=['accuracy', 'recall_micro'], verbose=0)"
      ]
     },
     "execution_count": 21,
     "metadata": {},
     "output_type": "execute_result"
    }
   ],
   "source": [
    "grid.fit(X,y)"
   ]
  },
  {
   "cell_type": "markdown",
   "metadata": {},
   "source": [
    "<h4>Se examina el mejor modelo</h4>"
   ]
  },
  {
   "cell_type": "code",
   "execution_count": 22,
   "metadata": {},
   "outputs": [
    {
     "name": "stdout",
     "output_type": "stream",
     "text": [
      "Best model:\n",
      "0.5159474671669794\n",
      "{'n_neighbors': 24, 'weights': 'distance'}\n",
      "KNeighborsClassifier(algorithm='auto', leaf_size=30, metric='minkowski',\n",
      "           metric_params=None, n_jobs=None, n_neighbors=24, p=2,\n",
      "           weights='distance')\n",
      "Información del mejor modelo:\n",
      "std_test_accuracy                                          0.0479794\n",
      "mean_test_accuracy                                          0.515947\n",
      "mean_test_recall_micro                                      0.515947\n",
      "params                    {'n_neighbors': 24, 'weights': 'distance'}\n",
      "Name: 47, dtype: object\n"
     ]
    }
   ],
   "source": [
    "# examine the best model\n",
    "print('Best model:')\n",
    "print(grid.best_score_)\n",
    "print(grid.best_params_)\n",
    "print(grid.best_estimator_)\n",
    "\n",
    "#¿Cuál es el índice del mejor modelo?\n",
    "best_index = grid.best_index_\n",
    "\n",
    "#Se le asignan los resultados de gridcv a un dataframe\n",
    "best = pd.DataFrame(grid.cv_results_)\n",
    "\n",
    "#Se escoge el mejor resultado y se le asigna las columnas de interés\n",
    "best = best.iloc[best_index]\n",
    "best = best[['std_test_accuracy','mean_test_accuracy','mean_test_recall_micro','params']]\n",
    "print('Información del mejor modelo:')\n",
    "print(best)"
   ]
  },
  {
   "cell_type": "markdown",
   "metadata": {},
   "source": [
    "<h4>Ajuste de parámetros - ¿Y si eliminamos columnas del dataset?</h4>\n",
    "Ahora se probará el rendimiento si sacamos los dos atributos que presentan una **mayor desviación estándar**"
   ]
  },
  {
   "cell_type": "code",
   "execution_count": 23,
   "metadata": {},
   "outputs": [],
   "source": [
    "col = data_columns\n",
    "#Se eliminan las columnas que presenten mayor desviación estándar\n",
    "col.remove('free sulfur dioxide')\n",
    "col.remove('total sulfur dioxide')\n",
    "\n",
    "X = red_wines[col]\n",
    "y = red_wines['quality']"
   ]
  },
  {
   "cell_type": "code",
   "execution_count": 24,
   "metadata": {},
   "outputs": [],
   "source": [
    "grid = GridSearchCV(knn, param_grid, cv=10, scoring=scoring, return_train_score=False, refit='accuracy')"
   ]
  },
  {
   "cell_type": "code",
   "execution_count": 25,
   "metadata": {},
   "outputs": [
    {
     "name": "stderr",
     "output_type": "stream",
     "text": [
      "C:\\Program Files\\Anaconda3\\lib\\site-packages\\sklearn\\model_selection\\_search.py:841: DeprecationWarning: The default of the `iid` parameter will change from True to False in version 0.22 and will be removed in 0.24. This will change numeric results when test-set sizes are unequal.\n",
      "  DeprecationWarning)\n"
     ]
    },
    {
     "data": {
      "text/plain": [
       "GridSearchCV(cv=10, error_score='raise-deprecating',\n",
       "       estimator=KNeighborsClassifier(algorithm='auto', leaf_size=30, metric='minkowski',\n",
       "           metric_params=None, n_jobs=None, n_neighbors=5, p=2,\n",
       "           weights='uniform'),\n",
       "       fit_params=None, iid='warn', n_jobs=None,\n",
       "       param_grid={'n_neighbors': [1, 2, 3, 4, 5, 6, 7, 8, 9, 10, 11, 12, 13, 14, 15, 16, 17, 18, 19, 20, 21, 22, 23, 24, 25, 26, 27, 28, 29, 30, 31, 32, 33, 34, 35, 36, 37, 38, 39, 40, 41, 42, 43, 44, 45, 46, 47, 48, 49, 50, 51, 52, 53, 54, 55, 56, 57, 58, 59, 60], 'weights': ['uniform', 'distance']},\n",
       "       pre_dispatch='2*n_jobs', refit='accuracy', return_train_score=False,\n",
       "       scoring=['accuracy', 'recall_micro'], verbose=0)"
      ]
     },
     "execution_count": 25,
     "metadata": {},
     "output_type": "execute_result"
    }
   ],
   "source": [
    "grid.fit(X,y)"
   ]
  },
  {
   "cell_type": "markdown",
   "metadata": {},
   "source": [
    "<h4>Se examina el mejor modelo</h4>"
   ]
  },
  {
   "cell_type": "code",
   "execution_count": 26,
   "metadata": {},
   "outputs": [
    {
     "name": "stdout",
     "output_type": "stream",
     "text": [
      "Best model:\n",
      "0.5778611632270169\n",
      "{'n_neighbors': 59, 'weights': 'distance'}\n",
      "KNeighborsClassifier(algorithm='auto', leaf_size=30, metric='minkowski',\n",
      "           metric_params=None, n_jobs=None, n_neighbors=59, p=2,\n",
      "           weights='distance')\n",
      "Información del mejor modelo:\n",
      "std_test_accuracy                                          0.0521376\n",
      "mean_test_accuracy                                          0.577861\n",
      "mean_test_recall_micro                                      0.577861\n",
      "params                    {'n_neighbors': 59, 'weights': 'distance'}\n",
      "Name: 117, dtype: object\n"
     ]
    }
   ],
   "source": [
    "# examine the best model\n",
    "print('Best model:')\n",
    "print(grid.best_score_)\n",
    "print(grid.best_params_)\n",
    "print(grid.best_estimator_)\n",
    "\n",
    "#¿Cuál es el índice del mejor modelo?\n",
    "best_index = grid.best_index_\n",
    "\n",
    "#Se le asignan los resultados de gridcv a un dataframe\n",
    "best = pd.DataFrame(grid.cv_results_)\n",
    "\n",
    "#Se escoge el mejor resultado y se le asigna las columnas de interés\n",
    "best = best.iloc[best_index]\n",
    "best = best[['std_test_accuracy','mean_test_accuracy','mean_test_recall_micro','params']]\n",
    "print('Información del mejor modelo:')\n",
    "print(best)"
   ]
  },
  {
   "cell_type": "markdown",
   "metadata": {
    "colab_type": "text",
    "id": "s3eBUKPHU5lu"
   },
   "source": [
    "<h3>White wine</h3>\n"
   ]
  },
  {
   "cell_type": "code",
   "execution_count": 27,
   "metadata": {
    "colab": {},
    "colab_type": "code",
    "id": "he6uNY_Ks2X7"
   },
   "outputs": [],
   "source": [
    "#Se obtienen nuevamente los nombres de las columnas del dataset\n",
    "data_columns = list(red_wines.columns.values)\n",
    "data_columns.remove('quality')\n",
    "\n",
    "X = white_wines[data_columns]\n",
    "y = white_wines['quality']"
   ]
  },
  {
   "cell_type": "code",
   "execution_count": 28,
   "metadata": {
    "colab": {
     "base_uri": "https://localhost:8080/",
     "height": 286
    },
    "colab_type": "code",
    "id": "60RQNsFEU5lv",
    "outputId": "dd587f72-f142-49b2-be11-7cba3da4f379"
   },
   "outputs": [],
   "source": [
    "grid = GridSearchCV(knn, param_grid, cv=10, scoring=scoring, return_train_score=False, refit='accuracy')"
   ]
  },
  {
   "cell_type": "code",
   "execution_count": 29,
   "metadata": {
    "colab": {},
    "colab_type": "code",
    "id": "aBGTbt0jU5lx",
    "outputId": "95eb5bc0-bd36-47ec-b8f7-ec81369ddcdf"
   },
   "outputs": [
    {
     "name": "stderr",
     "output_type": "stream",
     "text": [
      "C:\\Program Files\\Anaconda3\\lib\\site-packages\\sklearn\\model_selection\\_split.py:652: Warning: The least populated class in y has only 5 members, which is too few. The minimum number of members in any class cannot be less than n_splits=10.\n",
      "  % (min_groups, self.n_splits)), Warning)\n"
     ]
    },
    {
     "data": {
      "text/plain": [
       "GridSearchCV(cv=10, error_score='raise-deprecating',\n",
       "       estimator=KNeighborsClassifier(algorithm='auto', leaf_size=30, metric='minkowski',\n",
       "           metric_params=None, n_jobs=None, n_neighbors=5, p=2,\n",
       "           weights='uniform'),\n",
       "       fit_params=None, iid='warn', n_jobs=None,\n",
       "       param_grid={'n_neighbors': [1, 2, 3, 4, 5, 6, 7, 8, 9, 10, 11, 12, 13, 14, 15, 16, 17, 18, 19, 20, 21, 22, 23, 24, 25, 26, 27, 28, 29, 30, 31, 32, 33, 34, 35, 36, 37, 38, 39, 40, 41, 42, 43, 44, 45, 46, 47, 48, 49, 50, 51, 52, 53, 54, 55, 56, 57, 58, 59, 60], 'weights': ['uniform', 'distance']},\n",
       "       pre_dispatch='2*n_jobs', refit='accuracy', return_train_score=False,\n",
       "       scoring=['accuracy', 'recall_micro'], verbose=0)"
      ]
     },
     "execution_count": 29,
     "metadata": {},
     "output_type": "execute_result"
    }
   ],
   "source": [
    "grid.fit(X,y)"
   ]
  },
  {
   "cell_type": "markdown",
   "metadata": {},
   "source": [
    "<h4>Se examina el mejor modelo</h4>"
   ]
  },
  {
   "cell_type": "code",
   "execution_count": 30,
   "metadata": {
    "colab": {},
    "colab_type": "code",
    "id": "DZoNFsOms2YD",
    "outputId": "7c986d4b-4430-4255-aa82-2a4dccaf308e"
   },
   "outputs": [
    {
     "name": "stdout",
     "output_type": "stream",
     "text": [
      "Best model:\n",
      "0.45304205798285013\n",
      "{'n_neighbors': 59, 'weights': 'distance'}\n",
      "KNeighborsClassifier(algorithm='auto', leaf_size=30, metric='minkowski',\n",
      "           metric_params=None, n_jobs=None, n_neighbors=59, p=2,\n",
      "           weights='distance')\n",
      "Información del mejor modelo:\n",
      "std_test_accuracy                                          0.0299632\n",
      "mean_test_accuracy                                          0.453042\n",
      "mean_test_recall_micro                                      0.453042\n",
      "params                    {'n_neighbors': 59, 'weights': 'distance'}\n",
      "Name: 117, dtype: object\n"
     ]
    }
   ],
   "source": [
    "# examine the best model\n",
    "print('Best model:')\n",
    "print(grid.best_score_)\n",
    "print(grid.best_params_)\n",
    "print(grid.best_estimator_)\n",
    "\n",
    "#¿Cuál es el índice del mejor modelo?\n",
    "best_index = grid.best_index_\n",
    "\n",
    "#Se le asignan los resultados de gridcv a un dataframe\n",
    "best = pd.DataFrame(grid.cv_results_)\n",
    "\n",
    "#Se escoge el mejor resultado y se le asigna las columnas de interés\n",
    "best = best.iloc[best_index]\n",
    "best = best[['std_test_accuracy','mean_test_accuracy','mean_test_recall_micro','params']]\n",
    "print('Información del mejor modelo:')\n",
    "print(best)"
   ]
  },
  {
   "cell_type": "markdown",
   "metadata": {
    "colab": {},
    "colab_type": "code",
    "id": "KXwCkF8Xs2YF",
    "outputId": "d77f3386-e390-4ad9-dd1d-42031e835453"
   },
   "source": [
    "<h4>Ajuste de parámetros - ¿Y si eliminamos columnas del dataset?</h4>\n",
    "Ahora se probará el rendimiento si sacamos los dos atributos que presentan una **mayor desviación estándar**"
   ]
  },
  {
   "cell_type": "code",
   "execution_count": 31,
   "metadata": {},
   "outputs": [],
   "source": [
    "col = data_columns\n",
    "#Se eliminan las columnas que presenten mayor desviación estándar\n",
    "col.remove('free sulfur dioxide')\n",
    "col.remove('total sulfur dioxide')\n",
    "\n",
    "X = white_wines[col]\n",
    "y = white_wines['quality']"
   ]
  },
  {
   "cell_type": "code",
   "execution_count": 32,
   "metadata": {},
   "outputs": [],
   "source": [
    "grid = GridSearchCV(knn, param_grid, cv=10, scoring=scoring, return_train_score=False, refit='accuracy')"
   ]
  },
  {
   "cell_type": "code",
   "execution_count": 33,
   "metadata": {},
   "outputs": [
    {
     "name": "stderr",
     "output_type": "stream",
     "text": [
      "C:\\Program Files\\Anaconda3\\lib\\site-packages\\sklearn\\model_selection\\_split.py:652: Warning: The least populated class in y has only 5 members, which is too few. The minimum number of members in any class cannot be less than n_splits=10.\n",
      "  % (min_groups, self.n_splits)), Warning)\n"
     ]
    },
    {
     "data": {
      "text/plain": [
       "GridSearchCV(cv=10, error_score='raise-deprecating',\n",
       "       estimator=KNeighborsClassifier(algorithm='auto', leaf_size=30, metric='minkowski',\n",
       "           metric_params=None, n_jobs=None, n_neighbors=5, p=2,\n",
       "           weights='uniform'),\n",
       "       fit_params=None, iid='warn', n_jobs=None,\n",
       "       param_grid={'n_neighbors': [1, 2, 3, 4, 5, 6, 7, 8, 9, 10, 11, 12, 13, 14, 15, 16, 17, 18, 19, 20, 21, 22, 23, 24, 25, 26, 27, 28, 29, 30, 31, 32, 33, 34, 35, 36, 37, 38, 39, 40, 41, 42, 43, 44, 45, 46, 47, 48, 49, 50, 51, 52, 53, 54, 55, 56, 57, 58, 59, 60], 'weights': ['uniform', 'distance']},\n",
       "       pre_dispatch='2*n_jobs', refit='accuracy', return_train_score=False,\n",
       "       scoring=['accuracy', 'recall_micro'], verbose=0)"
      ]
     },
     "execution_count": 33,
     "metadata": {},
     "output_type": "execute_result"
    }
   ],
   "source": [
    "grid.fit(X,y)"
   ]
  },
  {
   "cell_type": "markdown",
   "metadata": {},
   "source": [
    "<h4>Se examina el mejor modelo</h4>"
   ]
  },
  {
   "cell_type": "code",
   "execution_count": 34,
   "metadata": {},
   "outputs": [
    {
     "name": "stdout",
     "output_type": "stream",
     "text": [
      "Best model:\n",
      "0.4951000408329931\n",
      "{'n_neighbors': 48, 'weights': 'distance'}\n",
      "KNeighborsClassifier(algorithm='auto', leaf_size=30, metric='minkowski',\n",
      "           metric_params=None, n_jobs=None, n_neighbors=48, p=2,\n",
      "           weights='distance')\n",
      "Información del mejor modelo:\n",
      "std_test_accuracy                                          0.0459262\n",
      "mean_test_accuracy                                            0.4951\n",
      "mean_test_recall_micro                                        0.4951\n",
      "params                    {'n_neighbors': 48, 'weights': 'distance'}\n",
      "Name: 95, dtype: object\n"
     ]
    }
   ],
   "source": [
    "# examine the best model\n",
    "print('Best model:')\n",
    "print(grid.best_score_)\n",
    "print(grid.best_params_)\n",
    "print(grid.best_estimator_)\n",
    "\n",
    "#¿Cuál es el índice del mejor modelo?\n",
    "best_index = grid.best_index_\n",
    "\n",
    "#Se le asignan los resultados de gridcv a un dataframe\n",
    "best = pd.DataFrame(grid.cv_results_)\n",
    "\n",
    "#Se escoge el mejor resultado y se le asigna las columnas de interés\n",
    "best = best.iloc[best_index]\n",
    "best = best[['std_test_accuracy','mean_test_accuracy','mean_test_recall_micro','params']]\n",
    "print('Información del mejor modelo:')\n",
    "print(best)"
   ]
  }
 ],
 "metadata": {
  "colab": {
   "collapsed_sections": [],
   "name": "Análisis_de_vinos.ipynb",
   "provenance": [],
   "version": "0.3.2"
  },
  "kernelspec": {
   "display_name": "Python 3",
   "language": "python",
   "name": "python3"
  },
  "language_info": {
   "codemirror_mode": {
    "name": "ipython",
    "version": 3
   },
   "file_extension": ".py",
   "mimetype": "text/x-python",
   "name": "python",
   "nbconvert_exporter": "python",
   "pygments_lexer": "ipython3",
   "version": "3.7.3"
  }
 },
 "nbformat": 4,
 "nbformat_minor": 1
}
